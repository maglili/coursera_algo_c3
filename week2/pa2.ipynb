{
 "cells": [
  {
   "cell_type": "markdown",
   "metadata": {},
   "source": [
    "# PA2\n",
    "\n",
    "[Idea Reference](https://www.coursera.org/learn/algorithms-greedy/discussions/weeks/2/threads/mSGCyQULEemZUwrw3z8SgA)"
   ]
  },
  {
   "cell_type": "code",
   "execution_count": 1,
   "metadata": {},
   "outputs": [],
   "source": [
    "import itertools\n",
    "import numpy as np\n",
    "from itertools import combinations"
   ]
  },
  {
   "cell_type": "code",
   "execution_count": 2,
   "metadata": {},
   "outputs": [],
   "source": [
    "\"\"\"\n",
    "MakeSet(x) initializes disjoint set for object x\n",
    "Find(x) returns representative object of the set containing x\n",
    "Union(x,y) makes two sets containing x and y respectively into one set\n",
    "\n",
    "Some Applications:\n",
    "- Kruskal's algorithm for finding minimal spanning trees\n",
    "- Finding connected components in graphs\n",
    "- Finding connected components in images (binary)\n",
    "\n",
    "Source: https://code.activestate.com/recipes/577225-union-find/\n",
    "\"\"\"\n",
    "\n",
    "\n",
    "class Node:\n",
    "    def __init__(self, label):\n",
    "        self.label = label\n",
    "\n",
    "    def __str__(self):\n",
    "        return self.label\n",
    "\n",
    "\n",
    "def MakeSet(x):\n",
    "    x.parent = x\n",
    "    x.rank = 0\n",
    "\n",
    "\n",
    "def Union(x, y):\n",
    "    xRoot = Find(x)\n",
    "    yRoot = Find(y)\n",
    "    if xRoot.rank > yRoot.rank:\n",
    "        yRoot.parent = xRoot\n",
    "    elif xRoot.rank < yRoot.rank:\n",
    "        xRoot.parent = yRoot\n",
    "    elif xRoot != yRoot:  # Unless x and y are already in same set, merge them\n",
    "        yRoot.parent = xRoot\n",
    "        xRoot.rank = xRoot.rank + 1\n",
    "\n",
    "\n",
    "def Find(x):\n",
    "    if x.parent == x:\n",
    "        return x\n",
    "    else:\n",
    "        x.parent = Find(x.parent)\n",
    "        return x.parent"
   ]
  },
  {
   "cell_type": "markdown",
   "metadata": {},
   "source": [
    "## Main"
   ]
  },
  {
   "cell_type": "code",
   "execution_count": 7,
   "metadata": {},
   "outputs": [
    {
     "name": "stdout",
     "output_type": "stream",
     "text": [
      "Num_of_set: 200000\n",
      "num_of_node: 200000\n",
      "num_of_bits: 24\n",
      "Num_of_set: 198788\n"
     ]
    }
   ],
   "source": [
    "path = \"./data/clustering_big.txt\"\n",
    "num2node_map = {}\n",
    "num_of_node = None\n",
    "num_of_bits = None\n",
    "node_list = None\n",
    "l = None\n",
    "\n",
    "with open(path, \"r\") as fh:\n",
    "    for idx, row in enumerate(fh):\n",
    "        row = row.strip()\n",
    "        row = row.split()\n",
    "        if idx == 0:\n",
    "            num_of_node = int(row[0])\n",
    "            num_of_bits = int(row[1])\n",
    "\n",
    "            node_list = [str(x) for x in range(1, num_of_node + 1)]\n",
    "            l = [Node(num) for num in node_list]  # list of distinct nodes\n",
    "\n",
    "            # starting with every object in its own set\n",
    "            for i in l:\n",
    "                MakeSet(i)\n",
    "\n",
    "            print(\"Num_of_set:\", len(np.unique([str(Find(x)) for x in l])))\n",
    "            continue\n",
    "\n",
    "        row = \"\".join(row)\n",
    "        num = int(row, 2)\n",
    "        if num not in num2node_map:\n",
    "            num2node_map[num] = [idx - 1]\n",
    "        else:\n",
    "            num2node_map[num].append(idx - 1)\n",
    "            Union(l[idx - 1], l[num2node_map[num][0]])\n",
    "\n",
    "print(\"num_of_node:\", num_of_node)\n",
    "print(\"num_of_bits:\", num_of_bits)\n",
    "print(\"Num_of_set:\", len(np.unique([str(Find(x)) for x in l])))"
   ]
  },
  {
   "cell_type": "code",
   "execution_count": 8,
   "metadata": {},
   "outputs": [],
   "source": [
    "mask_0 = [0]  # mask for hammimg distance 0"
   ]
  },
  {
   "cell_type": "code",
   "execution_count": 9,
   "metadata": {},
   "outputs": [],
   "source": [
    "mask_1 = [1 << i for i in range(num_of_bits)]  # mask for hammimg distance 1"
   ]
  },
  {
   "cell_type": "code",
   "execution_count": 10,
   "metadata": {},
   "outputs": [],
   "source": [
    "mask_2 = []  # mask for hammimg distance 2\n",
    "for idx1, idx2 in combinations(range(num_of_bits), 2):\n",
    "    mask_2.append(2 ** (idx1) ^ 2 ** (idx2))"
   ]
  },
  {
   "cell_type": "code",
   "execution_count": 12,
   "metadata": {},
   "outputs": [],
   "source": [
    "all_mask = mask_0 + mask_1 + mask_2"
   ]
  },
  {
   "cell_type": "code",
   "execution_count": 14,
   "metadata": {},
   "outputs": [],
   "source": [
    "for bit in num2node_map.keys():\n",
    "    for bit_mask in all_mask:\n",
    "        diff_bit = bit ^ bit_mask\n",
    "        if diff_bit in num2node_map:\n",
    "            Union(l[num2node_map[bit][0]], l[num2node_map[diff_bit][0]])"
   ]
  },
  {
   "cell_type": "code",
   "execution_count": 15,
   "metadata": {},
   "outputs": [
    {
     "name": "stdout",
     "output_type": "stream",
     "text": [
      "Num_of_set: 6118\n"
     ]
    }
   ],
   "source": [
    "print(\"Num_of_set:\", len(np.unique([str(Find(x)) for x in l])))"
   ]
  }
 ],
 "metadata": {
  "interpreter": {
   "hash": "2ab0d6751d35af2e8b1b5a2de65b77d8fca32a0521c5a009b35d218cec4960b1"
  },
  "kernelspec": {
   "display_name": "Python 3 (ipykernel)",
   "language": "python",
   "name": "python3"
  },
  "language_info": {
   "codemirror_mode": {
    "name": "ipython",
    "version": 3
   },
   "file_extension": ".py",
   "mimetype": "text/x-python",
   "name": "python",
   "nbconvert_exporter": "python",
   "pygments_lexer": "ipython3",
   "version": "3.8.6"
  },
  "toc": {
   "base_numbering": 1,
   "nav_menu": {},
   "number_sections": true,
   "sideBar": true,
   "skip_h1_title": false,
   "title_cell": "Table of Contents",
   "title_sidebar": "Contents",
   "toc_cell": false,
   "toc_position": {},
   "toc_section_display": true,
   "toc_window_display": false
  }
 },
 "nbformat": 4,
 "nbformat_minor": 2
}
