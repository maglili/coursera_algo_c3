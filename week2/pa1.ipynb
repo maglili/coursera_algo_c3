{
 "cells": [
  {
   "cell_type": "code",
   "execution_count": 9,
   "metadata": {},
   "outputs": [],
   "source": [
    "import itertools\n",
    "import numpy as np\n",
    "\n",
    "K = 4"
   ]
  },
  {
   "cell_type": "code",
   "execution_count": 10,
   "metadata": {},
   "outputs": [],
   "source": [
    "\"\"\"\n",
    "MakeSet(x) initializes disjoint set for object x\n",
    "Find(x) returns representative object of the set containing x\n",
    "Union(x,y) makes two sets containing x and y respectively into one set\n",
    "\n",
    "Some Applications:\n",
    "- Kruskal's algorithm for finding minimal spanning trees\n",
    "- Finding connected components in graphs\n",
    "- Finding connected components in images (binary)\n",
    "\n",
    "Source: https://code.activestate.com/recipes/577225-union-find/\n",
    "\"\"\"\n",
    "\n",
    "\n",
    "class Node:\n",
    "    def __init__(self, label):\n",
    "        self.label = label\n",
    "\n",
    "    def __str__(self):\n",
    "        return self.label\n",
    "\n",
    "\n",
    "def MakeSet(x):\n",
    "    x.parent = x\n",
    "    x.rank = 0\n",
    "\n",
    "\n",
    "def Union(x, y):\n",
    "    xRoot = Find(x)\n",
    "    yRoot = Find(y)\n",
    "    if xRoot.rank > yRoot.rank:\n",
    "        yRoot.parent = xRoot\n",
    "    elif xRoot.rank < yRoot.rank:\n",
    "        xRoot.parent = yRoot\n",
    "    elif xRoot != yRoot:  # Unless x and y are already in same set, merge them\n",
    "        yRoot.parent = xRoot\n",
    "        xRoot.rank = xRoot.rank + 1\n",
    "\n",
    "\n",
    "def Find(x):\n",
    "    if x.parent == x:\n",
    "        return x\n",
    "    else:\n",
    "        x.parent = Find(x.parent)\n",
    "        return x.parent"
   ]
  },
  {
   "cell_type": "markdown",
   "metadata": {},
   "source": [
    "## Main"
   ]
  },
  {
   "cell_type": "code",
   "execution_count": 11,
   "metadata": {},
   "outputs": [
    {
     "name": "stdout",
     "output_type": "stream",
     "text": [
      "Num_of_set: 500\n"
     ]
    }
   ],
   "source": [
    "path = \"./data/clustering1.txt\"\n",
    "# path = \"./data/test1.txt\"\n",
    "edge_list = []\n",
    "num_of_node = None\n",
    "with open(path, \"r\") as fh:\n",
    "    for row in fh:\n",
    "        row = row.strip()\n",
    "        row = row.split()\n",
    "        if len(row) == 1:\n",
    "            num_of_node = int(row[0])\n",
    "            continue\n",
    "\n",
    "        edge_list.append(tuple([int(x) for x in row]))\n",
    "\n",
    "node_list = [str(x) for x in range(1, num_of_node + 1)]\n",
    "l = [Node(num) for num in node_list]  # list of distinct nodes\n",
    "\n",
    "# starting with every object in its own set\n",
    "for i in l:\n",
    "    MakeSet(i)\n",
    "Num_of_set = len(np.unique([str(Find(x)) for x in l]))\n",
    "print(\"Num_of_set:\", Num_of_set)\n",
    "\n",
    "sorted_edge_list = sorted(edge_list, key=lambda x: x[2], reverse=True)"
   ]
  },
  {
   "cell_type": "code",
   "execution_count": 12,
   "metadata": {},
   "outputs": [],
   "source": [
    "while Num_of_set > K:\n",
    "    node1, node2, distance = sorted_edge_list.pop()\n",
    "    if Find(l[node1 - 1]) != Find(l[node2 - 1]):\n",
    "        Union(l[node1 - 1], l[node2 - 1])\n",
    "        maximum_spacing = distance\n",
    "        Num_of_set -= 1\n",
    "    assert Num_of_set == len(np.unique([str(Find(x)) for x in l]))"
   ]
  },
  {
   "cell_type": "code",
   "execution_count": 13,
   "metadata": {},
   "outputs": [
    {
     "name": "stdout",
     "output_type": "stream",
     "text": [
      "maximum_spacing: 106\n"
     ]
    }
   ],
   "source": [
    "maximum_spacing = np.inf\n",
    "for node1, node2, distance in edge_list:\n",
    "    if Find(l[node1 - 1]) != Find(l[node2 - 1]):\n",
    "        if maximum_spacing > distance:\n",
    "            maximum_spacing = distance\n",
    "print(\"maximum_spacing:\", maximum_spacing)"
   ]
  }
 ],
 "metadata": {
  "interpreter": {
   "hash": "2ab0d6751d35af2e8b1b5a2de65b77d8fca32a0521c5a009b35d218cec4960b1"
  },
  "kernelspec": {
   "display_name": "Python 3 (ipykernel)",
   "language": "python",
   "name": "python3"
  },
  "language_info": {
   "codemirror_mode": {
    "name": "ipython",
    "version": 3
   },
   "file_extension": ".py",
   "mimetype": "text/x-python",
   "name": "python",
   "nbconvert_exporter": "python",
   "pygments_lexer": "ipython3",
   "version": "3.8.6"
  },
  "toc": {
   "base_numbering": 1,
   "nav_menu": {},
   "number_sections": true,
   "sideBar": true,
   "skip_h1_title": false,
   "title_cell": "Table of Contents",
   "title_sidebar": "Contents",
   "toc_cell": false,
   "toc_position": {},
   "toc_section_display": true,
   "toc_window_display": false
  }
 },
 "nbformat": 4,
 "nbformat_minor": 2
}
